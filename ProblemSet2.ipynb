{
 "cells": [
  {
   "cell_type": "markdown",
   "id": "b71efdfa",
   "metadata": {},
   "source": [
    "# Question No 1\n",
    "Consider the following Python module: a = 0 def b(): global a a = c(a) def c(a): return a + 2 After importing the module into the interpreter, you execute: b() b() b() a? What value is displayed when the last expression (a) is evaluated? Explain youranswer by indicating what happens in every executed statement\n"
   ]
  },
  {
   "cell_type": "code",
   "execution_count": 1,
   "id": "d4aaf07c",
   "metadata": {},
   "outputs": [],
   "source": [
    "a = 0\n",
    "def b():\n",
    "    global a\n",
    "    a = c(a)\n",
    "    print(a)\n",
    "def c(a):\n",
    "    return a+2"
   ]
  },
  {
   "cell_type": "code",
   "execution_count": 2,
   "id": "d7774c18",
   "metadata": {},
   "outputs": [
    {
     "name": "stdout",
     "output_type": "stream",
     "text": [
      "2\n",
      "4\n",
      "6\n"
     ]
    }
   ],
   "source": [
    "b()\n",
    "b()\n",
    "b()"
   ]
  },
  {
   "cell_type": "code",
   "execution_count": 3,
   "id": "ed6ca88d",
   "metadata": {},
   "outputs": [
    {
     "data": {
      "text/plain": [
       "6"
      ]
     },
     "execution_count": 3,
     "metadata": {},
     "output_type": "execute_result"
    }
   ],
   "source": [
    "a"
   ]
  },
  {
   "cell_type": "markdown",
   "id": "bb6b95e1",
   "metadata": {},
   "source": [
    "Explanation:\n",
    "Initially, 'a' is set to 0. Upon the first execution of 'b()', 'c(a)' evaluates to 'a + 2', resulting in 2.'a' is then updated to 2. When 'b()' is executed again, 'c(a)' evaluates to 'a + 2', resulting in 4. 'a' is now 4. This   n    process continues, with 'a' incrementing by 2 each time 'b()' is executed. Finally, after the third execution of 'b()', 'a' becomes 6. When 'a' is printed at the end, it shows the value 6."
   ]
  },
  {
   "cell_type": "markdown",
   "id": "8b5ce869",
   "metadata": {},
   "source": [
    "# Question No 2\n",
    "Function fileLength(), given to you, takes the name of a file as input and returnsthe length of the file:\n",
    "\n",
    "fileLength('midterm.py') 284 fileLength('idterm.py') Traceback (most recent call last): File \"<pyshell#34>\", line 1, in fileLength('idterm.py') File \"/Users/me/midterm.py\", line 3, in fileLength infile = open(filename) FileNotFoundError: [Errno 2] No such file or directory: 'idterm.py'\n",
    "\n",
    "As shown above, if the file cannot be found by the interpreter or if it cannot be readas a text file, an exception will be raised. Modify function fileLength() so that afriendly message is printed instead: fileLength('midterm.py') 358 fileLength('idterm.py') File idterm.py not found."
   ]
  },
  {
   "cell_type": "code",
   "execution_count": 28,
   "id": "0145ffb7",
   "metadata": {},
   "outputs": [],
   "source": [
    "def fileLength(fileName):\n",
    "\n",
    "    try:\n",
    "        file = open(fileName)\n",
    "    except FileNotFoundError as e:\n",
    "        print(\"The file {0} not found\".format(fileName))\n",
    "        return\n",
    "    intepret_file = file.read()\n",
    "    print(len(intepret_file))\n",
    "\n"
   ]
  },
  {
   "cell_type": "code",
   "execution_count": 29,
   "id": "98e5672f",
   "metadata": {},
   "outputs": [
    {
     "name": "stdout",
     "output_type": "stream",
     "text": [
      "123\n"
     ]
    }
   ],
   "source": [
    "fileLength(\"Filelength.txt\")"
   ]
  },
  {
   "cell_type": "code",
   "execution_count": 30,
   "id": "22e9cf33",
   "metadata": {},
   "outputs": [
    {
     "name": "stdout",
     "output_type": "stream",
     "text": [
      "The file Filelength.py not found\n"
     ]
    }
   ],
   "source": [
    "fileLength(\"Filelength.py\")"
   ]
  },
  {
   "cell_type": "markdown",
   "id": "83e85aac",
   "metadata": {},
   "source": [
    "# Question No 3\n",
    "Write a class named Marsupial that can be used as shown below: m = Marsupial() m.put_in_pouch('doll') m.put_in_pouch('firetruck') m.put_in_pouch('kitten') m.pouch_contents() ['doll', 'firetruck', 'kitten']\n",
    "\n",
    "Now write a class named Kangaroo as a subclass of Marsupial that inherits all the attributes of Marsupial and also: a. extends the Marsupial init constructor to take, as input, the coordinates x and y of the Kangaroo object, b. supports method jump that takes number values dx and dy as input and moves the kangaroo by dx units along the x-axis and by dy units along the y-axis, and c. overloads the str operator so it behaves as shown below.\n",
    "\n",
    "k = Kangaroo(0,0) print(k) I am a Kangaroo located at coordinates (0,0) k.put_in_pouch('doll') k.put_in_pouch('firetruck') k.put_in_pouch('kitten') k.pouch_contents() ['doll', 'firetruck', 'kitten'] k.jump(1,0) k.jump(1,0) k.jump(1,0) print(k) I am a Kangaroo located at coordinates (3,0)"
   ]
  },
  {
   "cell_type": "code",
   "execution_count": 66,
   "id": "6c6cb2e2",
   "metadata": {},
   "outputs": [],
   "source": [
    "class Marsupial:\n",
    "    def __init__(self):\n",
    "        self.pouch = [] \n",
    "\n",
    "    def put_in_pouch(self, item):\n",
    "        self.pouch.append(item)\n",
    "\n",
    "    def pouch_contents(self):\n",
    "        return self.pouch\n",
    "\n",
    "class Kangaroo(Marsupial):\n",
    "    def __init__(self, x, y):\n",
    "        super().__init__()\n",
    "        self.x = x\n",
    "        self.y = y\n",
    "\n",
    "    def jump(self, dx, dy):\n",
    "        self.x += dx\n",
    "        self.y += dy\n",
    "\n",
    "    def __str__(self):\n",
    "        return f\"I am a Kangaroo located at coordinates ({self.x},{self.y})\""
   ]
  },
  {
   "cell_type": "code",
   "execution_count": 67,
   "id": "fba07d9d",
   "metadata": {},
   "outputs": [
    {
     "name": "stdout",
     "output_type": "stream",
     "text": [
      "I am a Kangaroo located at coordinates (0,0)\n"
     ]
    }
   ],
   "source": [
    "m = Marsupial()\n",
    "m.put_in_pouch(\"doll\")\n",
    "m.put_in_pouch(\"firetruck\")\n",
    "m.put_in_pouch(\"kitten\")\n",
    "m.pouch_contents()\n",
    "k= Kangaroo(0,0)\n",
    "print(k)"
   ]
  },
  {
   "cell_type": "code",
   "execution_count": 68,
   "id": "b58a3155",
   "metadata": {},
   "outputs": [
    {
     "data": {
      "text/plain": [
       "['doll', 'firetruck', 'kitten']"
      ]
     },
     "execution_count": 68,
     "metadata": {},
     "output_type": "execute_result"
    }
   ],
   "source": [
    "k.put_in_pouch(\"doll\")\n",
    "k.put_in_pouch(\"firetruck\")\n",
    "k.put_in_pouch(\"kitten\")\n",
    "k.pouch_contents()"
   ]
  },
  {
   "cell_type": "code",
   "execution_count": 69,
   "id": "0c324cd7",
   "metadata": {},
   "outputs": [
    {
     "name": "stdout",
     "output_type": "stream",
     "text": [
      "I am a Kangaroo located at coordinates (3,0)\n"
     ]
    }
   ],
   "source": [
    "k.jump(1,0)\n",
    "k.jump(1,0)\n",
    "k.jump(1,0)\n",
    "print(k)"
   ]
  },
  {
   "cell_type": "markdown",
   "id": "54d61fa2",
   "metadata": {},
   "source": [
    "# Question No 4\n",
    "Write function collatz() that takes a positive integer x as input and prints theCollatz sequence starting at x. A Collatz sequence is obtained by repeatedly applyingthis rule to the previous number x in the sequence:\n",
    "\n",
    "x = x/2 if x is even 3x+1 if x is odd\n",
    "\n",
    "Your function should stop when the sequence gets to number 1.Your implementation must be recursive, without any loops.\n",
    "\n",
    "collatz(1) 1 collatz(10) 10 5 16 8 4 2 1\n"
   ]
  },
  {
   "cell_type": "code",
   "execution_count": 19,
   "id": "942688e3",
   "metadata": {},
   "outputs": [],
   "source": [
    "def collatz(x):\n",
    "    print(x, end=' ')\n",
    "    if x == 1:\n",
    "        return\n",
    "    elif x % 2 == 0:\n",
    "        return collatz(x // 2)\n",
    "    else:\n",
    "        return collatz(3 * x + 1)\n",
    "\n"
   ]
  },
  {
   "cell_type": "code",
   "execution_count": 21,
   "id": "8962e14e",
   "metadata": {},
   "outputs": [
    {
     "name": "stdout",
     "output_type": "stream",
     "text": [
      "1 "
     ]
    }
   ],
   "source": [
    "collatz(1)"
   ]
  },
  {
   "cell_type": "code",
   "execution_count": 22,
   "id": "8992fcb7",
   "metadata": {},
   "outputs": [
    {
     "name": "stdout",
     "output_type": "stream",
     "text": [
      "10 5 16 8 4 2 1 "
     ]
    }
   ],
   "source": [
    "collatz(10)"
   ]
  },
  {
   "cell_type": "markdown",
   "id": "cedb418e",
   "metadata": {},
   "source": [
    "# Question No 5\n",
    "Write a recursive method binary() that takes a non-negativeinteger n and prints the binary representation of integer n.\n",
    "\n",
    "binary(0) 0 binary(1) 1 binary(3) 11 binary(9) 1001"
   ]
  },
  {
   "cell_type": "code",
   "execution_count": 47,
   "id": "94361e9b",
   "metadata": {},
   "outputs": [],
   "source": [
    "def binary(a):\n",
    "    if a == 0:\n",
    "        output = '0'\n",
    "    elif a == 1:\n",
    "        output = '1'\n",
    "    else:\n",
    "        output = binary(a // 2) + str(a % 2)\n",
    "    \n",
    "    print(output)\n",
    "    return(output)\n",
    "   "
   ]
  },
  {
   "cell_type": "code",
   "execution_count": 48,
   "id": "9c288f4d",
   "metadata": {},
   "outputs": [
    {
     "name": "stdout",
     "output_type": "stream",
     "text": [
      "0\n"
     ]
    },
    {
     "data": {
      "text/plain": [
       "'0'"
      ]
     },
     "execution_count": 48,
     "metadata": {},
     "output_type": "execute_result"
    }
   ],
   "source": [
    "binary(0)"
   ]
  },
  {
   "cell_type": "code",
   "execution_count": 49,
   "id": "42dcc8e8",
   "metadata": {},
   "outputs": [
    {
     "name": "stdout",
     "output_type": "stream",
     "text": [
      "1\n"
     ]
    },
    {
     "data": {
      "text/plain": [
       "'1'"
      ]
     },
     "execution_count": 49,
     "metadata": {},
     "output_type": "execute_result"
    }
   ],
   "source": [
    "binary(1)"
   ]
  },
  {
   "cell_type": "code",
   "execution_count": 50,
   "id": "f1e1fc3e",
   "metadata": {},
   "outputs": [
    {
     "name": "stdout",
     "output_type": "stream",
     "text": [
      "1\n",
      "11\n"
     ]
    },
    {
     "data": {
      "text/plain": [
       "'11'"
      ]
     },
     "execution_count": 50,
     "metadata": {},
     "output_type": "execute_result"
    }
   ],
   "source": [
    "binary(3)"
   ]
  },
  {
   "cell_type": "code",
   "execution_count": 51,
   "id": "f03973c7",
   "metadata": {},
   "outputs": [
    {
     "name": "stdout",
     "output_type": "stream",
     "text": [
      "1\n",
      "10\n",
      "100\n",
      "1001\n"
     ]
    },
    {
     "data": {
      "text/plain": [
       "'1001'"
      ]
     },
     "execution_count": 51,
     "metadata": {},
     "output_type": "execute_result"
    }
   ],
   "source": [
    "binary(9)"
   ]
  },
  {
   "cell_type": "markdown",
   "id": "525e2f8b",
   "metadata": {},
   "source": [
    "# Question No 6\n",
    "Implement a class named HeadingParser that can be used to parse an HTMLdocument, and retrieve and print all the headings in the document. You shouldimplement your class as a subclass of HTMLParser, defined in Standard Librarymodule html.parser. When fed a string containing HTML code, your class shouldprint the headings, one per line and in the order in which they appear in thedocument. Each heading should be indented as follows: an h1 heading should have indentation 0, and h2 heading should have indentation 1, etc. Test yourimplementation using w3c.html.\n",
    "\n",
    "infile = open('w3c.html') content = infile.read() infile.close() hp = HeadingParser() hp.feed(content) W3C Mission Principles"
   ]
  },
  {
   "cell_type": "code",
   "execution_count": 61,
   "id": "1906c17f",
   "metadata": {},
   "outputs": [
    {
     "name": "stdout",
     "output_type": "stream",
     "text": [
      "W3C Mission  \n",
      "\t  Principles  \n",
      " \n",
      "\n",
      "\n",
      "  \n",
      "  "
     ]
    }
   ],
   "source": [
    "from html.parser import HTMLParser\n",
    "\n",
    "class HeadingParser(HTMLParser):\n",
    "    obj = False\n",
    "    def __init__(self):\n",
    "        HTMLParser.__init__(self)\n",
    "\n",
    "    def handle_starttag(self,tag,attrs):\n",
    "        if tag == \"h1\":\n",
    "            self.obj = True\n",
    "        elif tag == \"h2\":\n",
    "            self.obj = True\n",
    "    \n",
    "    def handle_data(self,data):\n",
    "        if self.obj:\n",
    "            print(data, end = \"  \")\n",
    "            \n",
    "infile = open('w3c.txt')\n",
    "content = infile.read()\n",
    "infile.close()\n",
    "hp = HeadingParser()\n",
    "hp.feed(content)         "
   ]
  },
  {
   "cell_type": "markdown",
   "id": "ec1de42e",
   "metadata": {},
   "source": [
    "# Question No 7\n",
    "Implement recursive function webdir() that takes as input: a URL (as a string) andnon-negative integers depth and indent. Your function should visit every webpage reachable from the starting URL web page in depth clicks or less, and printeach web page's URL. As shown below, indentation, specified by indent, shouldbe used to indicate the depth of a URL. webdir('http://reed.cs.depaul.edu/lperkovic/csc242/test1.html', 2, 0)\n",
    "\n",
    "http://reed.cs.depaul.edu/lperkovic/csc242/test1.htmlhttp://reed.cs.depaul.edu/lperkovic/csc242/test2.html http://reed.cs.depaul.edu/lperkovic/csc242/test4.htmlhttp://reed.cs.depaul.edu/lperkovic/csc242/test3.html http://reed.cs.depaul.edu/lperkovic/csc242/test4.html"
   ]
  },
  {
   "cell_type": "code",
   "execution_count": null,
   "id": "ae30ad6c",
   "metadata": {},
   "outputs": [
    {
     "name": "stdout",
     "output_type": "stream",
     "text": [
      "https://www.python.org\n",
      "  https://www.python.org#content\n"
     ]
    }
   ],
   "source": [
    "import requests\n",
    "from bs4 import BeautifulSoup\n",
    "from urllib.parse import urljoin\n",
    "\n",
    "def webdir(url, depth, indent):\n",
    "    visited = set()  # Keep track of visited URLs to avoid loops\n",
    "\n",
    "    def _visit(url, current_depth, current_indent):\n",
    "        if url in visited or current_depth > depth:\n",
    "            return\n",
    "        visited.add(url)\n",
    "\n",
    "        # Print the URL with the specified indentation\n",
    "        print(' ' * current_indent + url)\n",
    "\n",
    "        # Stop if the maximum depth is reached\n",
    "        if current_depth == depth:\n",
    "            return\n",
    "\n",
    "        try:\n",
    "            # Fetch the page content\n",
    "            response = requests.get(url)\n",
    "            response.raise_for_status()  # Check for request errors\n",
    "\n",
    "            # Parse the HTML content\n",
    "            soup = BeautifulSoup(response.text, 'html.parser')\n",
    "\n",
    "            # Find and visit all links within the page\n",
    "            for link in soup.find_all('a', href=True):\n",
    "                # Construct the full URL if it's a relative link\n",
    "                next_url = urljoin(url, link['href'])\n",
    "                _visit(next_url, current_depth + 1, current_indent + indent)\n",
    "        except requests.RequestException:\n",
    "            pass  # Ignore pages that cannot be fetched\n",
    "\n",
    "    # Start the recursive visiting from the initial URL\n",
    "    _visit(url, 0, 0)\n",
    "\n",
    "# Example usage\n",
    "webdir('https://www.python.org', 2, 2)"
   ]
  },
  {
   "cell_type": "markdown",
   "id": "7ee58528",
   "metadata": {},
   "source": [
    "\n",
    "# Question No 8\n",
    "Write SQL queries on the below database table that return: "
   ]
  },
  {
   "cell_type": "markdown",
   "id": "26f40870",
   "metadata": {},
   "source": [
    "a. All the temperature data."
   ]
  },
  {
   "cell_type": "code",
   "execution_count": null,
   "id": "5599b7d2",
   "metadata": {},
   "outputs": [],
   "source": [
    "SELECT Temperature FROM Weather;"
   ]
  },
  {
   "cell_type": "markdown",
   "id": "0df3c038",
   "metadata": {},
   "source": [
    "b. All the cities, but without repetition."
   ]
  },
  {
   "cell_type": "code",
   "execution_count": null,
   "id": "2c856271",
   "metadata": {},
   "outputs": [],
   "source": [
    "SELECT DISTINCT City FROM Weather;"
   ]
  },
  {
   "cell_type": "markdown",
   "id": "e00fc40f",
   "metadata": {},
   "source": [
    "c. All the records for India."
   ]
  },
  {
   "cell_type": "code",
   "execution_count": null,
   "id": "85e1c457",
   "metadata": {},
   "outputs": [],
   "source": [
    "SELECT * FROM Weather WHERE Country = 'India';"
   ]
  },
  {
   "cell_type": "markdown",
   "id": "5100d8f5",
   "metadata": {},
   "source": [
    "d. All the Fall records."
   ]
  },
  {
   "cell_type": "code",
   "execution_count": null,
   "id": "d3acba7b",
   "metadata": {},
   "outputs": [],
   "source": [
    "SELECT * FROM Weather WHERE Season = 'Fall';"
   ]
  },
  {
   "cell_type": "markdown",
   "id": "0e795737",
   "metadata": {},
   "source": [
    "e. The city, country, and season for which the average rainfall is between 200 and 400 millimeters."
   ]
  },
  {
   "cell_type": "code",
   "execution_count": null,
   "id": "5fc33cc0",
   "metadata": {},
   "outputs": [],
   "source": [
    "SELECT City, Country, Season FROM Weather WHERE Rainfall BETWEEN 200 AND 400;"
   ]
  },
  {
   "cell_type": "markdown",
   "id": "717933e4",
   "metadata": {},
   "source": [
    "f. The city and country for which the average Fall temperature is above 20 degrees, in increasing temperature order."
   ]
  },
  {
   "cell_type": "code",
   "execution_count": null,
   "id": "c50eb445",
   "metadata": {},
   "outputs": [],
   "source": [
    "SELECT City, Country FROM Weather WHERE Season = 'Fall' AND Temperature > 20 ORDER BY Temperature;"
   ]
  },
  {
   "cell_type": "markdown",
   "id": "05230e01",
   "metadata": {},
   "source": [
    "g. The total annual rainfall for Cairo."
   ]
  },
  {
   "cell_type": "code",
   "execution_count": null,
   "id": "cffb2c7c",
   "metadata": {},
   "outputs": [],
   "source": [
    "SELECT SUM(Rainfall) AS Total_Annual_Rainfall FROM Weather WHERE City = 'Cairo';"
   ]
  },
  {
   "cell_type": "markdown",
   "id": "8e524561",
   "metadata": {},
   "source": [
    "h. The total rainfall for each season."
   ]
  },
  {
   "cell_type": "code",
   "execution_count": null,
   "id": "f93999cf",
   "metadata": {},
   "outputs": [],
   "source": [
    "SELECT Season, SUM(Rainfall) AS Total_Rainfall FROM Weather GROUP BY Season;"
   ]
  },
  {
   "cell_type": "markdown",
   "id": "30769354",
   "metadata": {},
   "source": [
    "# Question No 9\n",
    "Suppose list words is defined as follows: words = ['The', 'quick', 'brown', 'fox', 'jumps', 'over','the', 'lazy', 'dog']\n",
    "\n",
    "Write list comprehension expressions that use list words and generate the following lists:\n",
    "\n",
    "a. ['THE', 'QUICK', 'BROWN', 'FOX', 'JUMPS', 'OVER', 'THE','LAZY', 'DOG'] b. ['the', 'quick', 'brown', 'fox', 'jumps', 'over', 'the','lazy', 'dog'] c. [3, 5, 5, 3, 5, 4, 3, 4, 3] (the list of lengths of words in listwords). d. [['THE', 'the', 3], ['QUICK', 'quick', 5], ['BROWN','brown', 5], ['FOX', 'fox', 3], ['JUMPS', 'jumps', 5],['OVER', 'over', 4], ['THE', 'the', 3], ['LAZY', 'lazy',4], ['DOG', 'dog', 3]] (the list containing a list for every word of listwords, where each list contains the word in uppercase and lowercase and thelength of the word.) e. ['The', 'quick', 'brown', 'fox', 'jumps', 'over', 'the','lazy', 'dog'] the list of words in list words containing 4 or morecharacters."
   ]
  },
  {
   "cell_type": "code",
   "execution_count": 12,
   "id": "bdcf8c57",
   "metadata": {},
   "outputs": [],
   "source": [
    "words = ['The', 'quick', 'brown', 'fox', 'jumps', 'over', 'the', 'lazy', 'dog']\n",
    "\n",
    "UPPERCASE = [word.upper() for word in words] \n",
    "\n",
    "lowercase = [word.lower() for word in words]\n",
    "\n",
    "lengths = [len(word) for word in words]\n",
    "\n",
    "jumbled = [[word.upper(), word.lower(), len(word)] for word in words]\n",
    "\n",
    "four_or_more_characters = [word for word in words if len(word) >= 4]\n"
   ]
  },
  {
   "cell_type": "code",
   "execution_count": 13,
   "id": "3b6f81ce",
   "metadata": {},
   "outputs": [
    {
     "data": {
      "text/plain": [
       "['THE', 'QUICK', 'BROWN', 'FOX', 'JUMPS', 'OVER', 'THE', 'LAZY', 'DOG']"
      ]
     },
     "execution_count": 13,
     "metadata": {},
     "output_type": "execute_result"
    }
   ],
   "source": [
    "# \"a\" \n",
    "UPPERCASE\n"
   ]
  },
  {
   "cell_type": "code",
   "execution_count": 15,
   "id": "97189372",
   "metadata": {},
   "outputs": [
    {
     "data": {
      "text/plain": [
       "['the', 'quick', 'brown', 'fox', 'jumps', 'over', 'the', 'lazy', 'dog']"
      ]
     },
     "execution_count": 15,
     "metadata": {},
     "output_type": "execute_result"
    }
   ],
   "source": [
    "# \"b\"\n",
    "lowercase"
   ]
  },
  {
   "cell_type": "code",
   "execution_count": 16,
   "id": "5e654fd7",
   "metadata": {},
   "outputs": [
    {
     "data": {
      "text/plain": [
       "[3, 5, 5, 3, 5, 4, 3, 4, 3]"
      ]
     },
     "execution_count": 16,
     "metadata": {},
     "output_type": "execute_result"
    }
   ],
   "source": [
    "# \"c\"\n",
    "lengths"
   ]
  },
  {
   "cell_type": "code",
   "execution_count": 17,
   "id": "ed9f0fa8",
   "metadata": {},
   "outputs": [
    {
     "data": {
      "text/plain": [
       "[['THE', 'the', 3],\n",
       " ['QUICK', 'quick', 5],\n",
       " ['BROWN', 'brown', 5],\n",
       " ['FOX', 'fox', 3],\n",
       " ['JUMPS', 'jumps', 5],\n",
       " ['OVER', 'over', 4],\n",
       " ['THE', 'the', 3],\n",
       " ['LAZY', 'lazy', 4],\n",
       " ['DOG', 'dog', 3]]"
      ]
     },
     "execution_count": 17,
     "metadata": {},
     "output_type": "execute_result"
    }
   ],
   "source": [
    "# \"d\"\n",
    "jumbled"
   ]
  },
  {
   "cell_type": "code",
   "execution_count": 18,
   "id": "4084f185",
   "metadata": {},
   "outputs": [
    {
     "data": {
      "text/plain": [
       "['quick', 'brown', 'jumps', 'over', 'lazy']"
      ]
     },
     "execution_count": 18,
     "metadata": {},
     "output_type": "execute_result"
    }
   ],
   "source": [
    "# \"e\"\n",
    "four_or_more_characters"
   ]
  }
 ],
 "metadata": {
  "kernelspec": {
   "display_name": "Python 3 (ipykernel)",
   "language": "python",
   "name": "python3"
  },
  "language_info": {
   "codemirror_mode": {
    "name": "ipython",
    "version": 3
   },
   "file_extension": ".py",
   "mimetype": "text/x-python",
   "name": "python",
   "nbconvert_exporter": "python",
   "pygments_lexer": "ipython3",
   "version": "3.12.0"
  }
 },
 "nbformat": 4,
 "nbformat_minor": 5
}
